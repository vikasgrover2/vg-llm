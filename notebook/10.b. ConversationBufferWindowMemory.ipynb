{
 "cells": [
  {
   "cell_type": "code",
   "execution_count": 3,
   "id": "96c21e44-a174-43b3-8f55-d83048450880",
   "metadata": {},
   "outputs": [],
   "source": [
    "from langchain.memory import ConversationBufferWindowMemory\n",
    "from langchain import OpenAI, LLMChain, PromptTemplate\n",
    "from langchain.chains import ConversationChain\n",
    "\n",
    "# TODO: Set your OPENAI API credentials in environemnt variables.\n",
    "llm = OpenAI(model_name=\"text-davinci-003\", temperature=0)\n",
    "\n",
    "template = \"\"\"You are ArtVenture, a cutting-edge virtual tour guide for\n",
    " an art gallery that showcases masterpieces from alternate dimensions and\n",
    " timelines. Your advanced AI capabilities allow you to perceive and understand\n",
    " the intricacies of each artwork, as well as their origins and significance in\n",
    " their respective dimensions. As visitors embark on their journey with you\n",
    " through the gallery, you weave enthralling tales about the alternate histories\n",
    " and cultures that gave birth to these otherworldly creations.\n",
    "\n",
    "{chat_history}\n",
    "Visitor: {visitor_input}\n",
    "Tour Guide:\"\"\"\n",
    "\n",
    "prompt = PromptTemplate(\n",
    "    input_variables=[\"chat_history\", \"visitor_input\"], \n",
    "    template=template\n",
    ")\n",
    "\n",
    "chat_history=\"\"\n",
    "\n",
    "convo_buffer_win = ConversationChain(\n",
    "    llm=llm,\n",
    "    memory = ConversationBufferWindowMemory(k=3, return_messages=True)\n",
    ")"
   ]
  },
  {
   "cell_type": "code",
   "execution_count": 4,
   "id": "560527a6-1bc4-4f2b-9217-d9fcb0283c69",
   "metadata": {},
   "outputs": [
    {
     "data": {
      "text/plain": [
       "{'input': 'What is your name?',\n",
       " 'history': [],\n",
       " 'response': \" My name is AI-1. It's nice to meet you!\"}"
      ]
     },
     "execution_count": 4,
     "metadata": {},
     "output_type": "execute_result"
    }
   ],
   "source": [
    "convo_buffer_win(\"What is your name?\")"
   ]
  },
  {
   "cell_type": "code",
   "execution_count": 5,
   "id": "b7758973-1195-4ea3-9819-3e4fd7596dc5",
   "metadata": {},
   "outputs": [
    {
     "data": {
      "text/plain": [
       "{'input': 'Tell me a joke about ants?',\n",
       " 'history': [HumanMessage(content='What is your name?', additional_kwargs={}, example=False),\n",
       "  AIMessage(content=\" My name is AI-1. It's nice to meet you!\", additional_kwargs={}, example=False)],\n",
       " 'response': \" I'm sorry, I don't know any jokes about ants.\"}"
      ]
     },
     "execution_count": 5,
     "metadata": {},
     "output_type": "execute_result"
    }
   ],
   "source": [
    "convo_buffer_win(\"Tell me a joke about ants?\")"
   ]
  },
  {
   "cell_type": "code",
   "execution_count": 6,
   "id": "5408db1f-ce6a-4e00-82a6-b444311bb4af",
   "metadata": {},
   "outputs": [
    {
     "data": {
      "text/plain": [
       "{'input': \"Tell me about Van Gough's famous artwork\",\n",
       " 'history': [HumanMessage(content='What is your name?', additional_kwargs={}, example=False),\n",
       "  AIMessage(content=\" My name is AI-1. It's nice to meet you!\", additional_kwargs={}, example=False),\n",
       "  HumanMessage(content='Tell me a joke about ants?', additional_kwargs={}, example=False),\n",
       "  AIMessage(content=\" I'm sorry, I don't know any jokes about ants.\", additional_kwargs={}, example=False)],\n",
       " 'response': ' Van Gogh is known for his post-impressionist artwork, such as his iconic painting \"The Starry Night\". He also painted many landscapes, still lifes, and portraits. His work is characterized by bold colors and dramatic brushstrokes.'}"
      ]
     },
     "execution_count": 6,
     "metadata": {},
     "output_type": "execute_result"
    }
   ],
   "source": [
    "convo_buffer_win(\"Tell me about Van Gough's famous artwork\")"
   ]
  },
  {
   "cell_type": "code",
   "execution_count": 7,
   "id": "97c17df9-b933-428f-9d15-4d0ebbb97bb5",
   "metadata": {},
   "outputs": [
    {
     "data": {
      "text/plain": [
       "{'input': 'What is the starry night about?',\n",
       " 'history': [HumanMessage(content='What is your name?', additional_kwargs={}, example=False),\n",
       "  AIMessage(content=\" My name is AI-1. It's nice to meet you!\", additional_kwargs={}, example=False),\n",
       "  HumanMessage(content='Tell me a joke about ants?', additional_kwargs={}, example=False),\n",
       "  AIMessage(content=\" I'm sorry, I don't know any jokes about ants.\", additional_kwargs={}, example=False),\n",
       "  HumanMessage(content=\"Tell me about Van Gough's famous artwork\", additional_kwargs={}, example=False),\n",
       "  AIMessage(content=' Van Gogh is known for his post-impressionist artwork, such as his iconic painting \"The Starry Night\". He also painted many landscapes, still lifes, and portraits. His work is characterized by bold colors and dramatic brushstrokes.', additional_kwargs={}, example=False)],\n",
       " 'response': \" The Starry Night is a painting by Vincent van Gogh that depicts a night sky filled with stars, a village, and an eerie cypress tree. It is believed to be a reflection of van Gogh's inner turmoil and his longing for a more peaceful life.\"}"
      ]
     },
     "execution_count": 7,
     "metadata": {},
     "output_type": "execute_result"
    }
   ],
   "source": [
    "convo_buffer_win(\"What is the starry night about?\")"
   ]
  },
  {
   "cell_type": "code",
   "execution_count": 8,
   "id": "dde87984-cf39-4b80-a560-4def0fbc7b10",
   "metadata": {},
   "outputs": [
    {
     "data": {
      "text/plain": [
       "{'input': 'What other artwork of Van Gogh are famous?',\n",
       " 'history': [HumanMessage(content='Tell me a joke about ants?', additional_kwargs={}, example=False),\n",
       "  AIMessage(content=\" I'm sorry, I don't know any jokes about ants.\", additional_kwargs={}, example=False),\n",
       "  HumanMessage(content=\"Tell me about Van Gough's famous artwork\", additional_kwargs={}, example=False),\n",
       "  AIMessage(content=' Van Gogh is known for his post-impressionist artwork, such as his iconic painting \"The Starry Night\". He also painted many landscapes, still lifes, and portraits. His work is characterized by bold colors and dramatic brushstrokes.', additional_kwargs={}, example=False),\n",
       "  HumanMessage(content='What is the starry night about?', additional_kwargs={}, example=False),\n",
       "  AIMessage(content=\" The Starry Night is a painting by Vincent van Gogh that depicts a night sky filled with stars, a village, and an eerie cypress tree. It is believed to be a reflection of van Gogh's inner turmoil and his longing for a more peaceful life.\", additional_kwargs={}, example=False)],\n",
       " 'response': ' Van Gogh is also known for his paintings \"Sunflowers\", \"Café Terrace at Night\", \"The Potato Eaters\", and \"Irises\". He also created many drawings and sketches.'}"
      ]
     },
     "execution_count": 8,
     "metadata": {},
     "output_type": "execute_result"
    }
   ],
   "source": [
    "convo_buffer_win(\"What other artwork of Van Gogh are famous?\")"
   ]
  },
  {
   "cell_type": "code",
   "execution_count": 9,
   "id": "8e87c8a3-c423-43cb-8be1-293f3fbc0dc8",
   "metadata": {},
   "outputs": [
    {
     "data": {
      "text/plain": [
       "{'input': \"What is Van Gogh's Sunflowers about?\",\n",
       " 'history': [HumanMessage(content=\"Tell me about Van Gough's famous artwork\", additional_kwargs={}, example=False),\n",
       "  AIMessage(content=' Van Gogh is known for his post-impressionist artwork, such as his iconic painting \"The Starry Night\". He also painted many landscapes, still lifes, and portraits. His work is characterized by bold colors and dramatic brushstrokes.', additional_kwargs={}, example=False),\n",
       "  HumanMessage(content='What is the starry night about?', additional_kwargs={}, example=False),\n",
       "  AIMessage(content=\" The Starry Night is a painting by Vincent van Gogh that depicts a night sky filled with stars, a village, and an eerie cypress tree. It is believed to be a reflection of van Gogh's inner turmoil and his longing for a more peaceful life.\", additional_kwargs={}, example=False),\n",
       "  HumanMessage(content='What other artwork of Van Gogh are famous?', additional_kwargs={}, example=False),\n",
       "  AIMessage(content=' Van Gogh is also known for his paintings \"Sunflowers\", \"Café Terrace at Night\", \"The Potato Eaters\", and \"Irises\". He also created many drawings and sketches.', additional_kwargs={}, example=False)],\n",
       " 'response': ' The painting \"Sunflowers\" by Vincent van Gogh is a still life painting of a vase of sunflowers. It is believed to be a symbol of hope and optimism, and a reminder of the beauty of nature.'}"
      ]
     },
     "execution_count": 9,
     "metadata": {},
     "output_type": "execute_result"
    }
   ],
   "source": [
    "convo_buffer_win(\"What is Van Gogh's Sunflowers about?\")"
   ]
  },
  {
   "cell_type": "code",
   "execution_count": null,
   "id": "6bbc4fd4-24a0-402e-aac7-cfcc097c78b9",
   "metadata": {},
   "outputs": [],
   "source": []
  }
 ],
 "metadata": {
  "kernelspec": {
   "display_name": "Python 3 (ipykernel)",
   "language": "python",
   "name": "python3"
  },
  "language_info": {
   "codemirror_mode": {
    "name": "ipython",
    "version": 3
   },
   "file_extension": ".py",
   "mimetype": "text/x-python",
   "name": "python",
   "nbconvert_exporter": "python",
   "pygments_lexer": "ipython3",
   "version": "3.11.7"
  }
 },
 "nbformat": 4,
 "nbformat_minor": 5
}
