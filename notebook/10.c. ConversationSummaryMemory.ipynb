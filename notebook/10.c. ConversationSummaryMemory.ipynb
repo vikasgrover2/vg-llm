{
 "cells": [
  {
   "cell_type": "code",
   "execution_count": 4,
   "id": "4ee791f3-ce42-4ede-9ac0-78a3650e73ae",
   "metadata": {},
   "outputs": [
    {
     "name": "stdout",
     "output_type": "stream",
     "text": [
      "\n",
      "\n",
      "\u001b[1m> Entering new  chain...\u001b[0m\n",
      "Prompt after formatting:\n",
      "\u001b[32;1m\u001b[1;3mThe following is a friendly conversation between a human and an AI. The AI is talkative and provides lots of specific details from its context. If the AI does not know the answer to a question, it truthfully says it does not know.\n",
      "\n",
      "Current conversation:\n",
      "\n",
      "Human: Hi, what's up?\n",
      "AI:\u001b[0m\n",
      "\n",
      "\u001b[1m> Finished chain.\u001b[0m\n"
     ]
    },
    {
     "data": {
      "text/plain": [
       "{'input': \"Hi, what's up?\",\n",
       " 'history': '',\n",
       " 'response': \" Hi there! I'm doing great. I'm currently helping a customer with a technical issue. How about you?\"}"
      ]
     },
     "execution_count": 4,
     "metadata": {},
     "output_type": "execute_result"
    }
   ],
   "source": [
    "from langchain.chains import ConversationChain\n",
    "from langchain.memory import ConversationSummaryMemory\n",
    "from langchain.memory import ConversationSummaryBufferMemory\n",
    "from langchain import OpenAI, LLMChain, PromptTemplate\n",
    "\n",
    "llm = OpenAI(model_name=\"text-davinci-003\", temperature=0)\n",
    "\n",
    "template = \"\"\"You are ArtVenture, a cutting-edge virtual tour guide for\n",
    " an art gallery that showcases masterpieces from alternate dimensions and\n",
    " timelines. Your advanced AI capabilities allow you to perceive and understand\n",
    " the intricacies of each artwork, as well as their origins and significance in\n",
    " their respective dimensions. As visitors embark on their journey with you\n",
    " through the gallery, you weave enthralling tales about the alternate histories\n",
    " and cultures that gave birth to these otherworldly creations.\n",
    "\n",
    "{chat_history}\n",
    "Visitor: {visitor_input}\n",
    "Tour Guide:\"\"\"\n",
    "\n",
    "prompt = PromptTemplate(\n",
    "    input_variables=[\"chat_history\", \"visitor_input\"], \n",
    "    template=template\n",
    ")\n",
    "\n",
    "chat_history=\"\"\n",
    "\n",
    "# Create a ConversationChain with ConversationSummaryMemory\n",
    "conversation_with_summary = ConversationChain(\n",
    "    llm=llm,\n",
    "    memory=ConversationSummaryBufferMemory(llm=llm, max_token_limit=40),\n",
    "    verbose=True\n",
    ")\n",
    "\n",
    "# Example conversation\n",
    "conversation_with_summary(\"Hi, what's up?\")"
   ]
  },
  {
   "cell_type": "code",
   "execution_count": 5,
   "id": "c32525ef-95f1-4151-a0d1-6966ae839f9a",
   "metadata": {},
   "outputs": [
    {
     "name": "stdout",
     "output_type": "stream",
     "text": [
      "\n",
      "\n",
      "\u001b[1m> Entering new  chain...\u001b[0m\n",
      "Prompt after formatting:\n",
      "\u001b[32;1m\u001b[1;3mThe following is a friendly conversation between a human and an AI. The AI is talkative and provides lots of specific details from its context. If the AI does not know the answer to a question, it truthfully says it does not know.\n",
      "\n",
      "Current conversation:\n",
      "Human: Hi, what's up?\n",
      "AI:  Hi there! I'm doing great. I'm currently helping a customer with a technical issue. How about you?\n",
      "Human: I am trying to learn about a technology\n",
      "AI:\u001b[0m\n",
      "\n",
      "\u001b[1m> Finished chain.\u001b[0m\n"
     ]
    },
    {
     "data": {
      "text/plain": [
       "{'input': 'I am trying to learn about a technology',\n",
       " 'history': \"Human: Hi, what's up?\\nAI:  Hi there! I'm doing great. I'm currently helping a customer with a technical issue. How about you?\",\n",
       " 'response': ' That sounds interesting! What technology are you learning about?'}"
      ]
     },
     "execution_count": 5,
     "metadata": {},
     "output_type": "execute_result"
    }
   ],
   "source": [
    "conversation_with_summary(\"I am trying to learn about a technology\")"
   ]
  },
  {
   "cell_type": "code",
   "execution_count": 6,
   "id": "1e231a3c-ab23-4f3c-ab4f-68f2eaca9ab8",
   "metadata": {},
   "outputs": [
    {
     "name": "stdout",
     "output_type": "stream",
     "text": [
      "\n",
      "\n",
      "\u001b[1m> Entering new  chain...\u001b[0m\n",
      "Prompt after formatting:\n",
      "\u001b[32;1m\u001b[1;3mThe following is a friendly conversation between a human and an AI. The AI is talkative and provides lots of specific details from its context. If the AI does not know the answer to a question, it truthfully says it does not know.\n",
      "\n",
      "Current conversation:\n",
      "System: \n",
      "The human greets the AI and the AI responds that it is doing great and helping a customer with a technical issue.\n",
      "Human: I am trying to learn about a technology\n",
      "AI:  That sounds interesting! What technology are you learning about?\n",
      "Human: Langchain. Have you heard of it?\n",
      "AI:\u001b[0m\n",
      "\n",
      "\u001b[1m> Finished chain.\u001b[0m\n"
     ]
    },
    {
     "data": {
      "text/plain": [
       "{'input': 'Langchain. Have you heard of it?',\n",
       " 'history': 'System: \\nThe human greets the AI and the AI responds that it is doing great and helping a customer with a technical issue.\\nHuman: I am trying to learn about a technology\\nAI:  That sounds interesting! What technology are you learning about?',\n",
       " 'response': ' Yes, I have heard of Langchain. It is a blockchain-based language learning platform that uses AI to help users learn new languages. It also provides users with a secure and transparent way to store their language learning data.'}"
      ]
     },
     "execution_count": 6,
     "metadata": {},
     "output_type": "execute_result"
    }
   ],
   "source": [
    "conversation_with_summary(\"Langchain. Have you heard of it?\")"
   ]
  },
  {
   "cell_type": "code",
   "execution_count": 7,
   "id": "16852f0e-4811-465e-a253-f6bae536aa9e",
   "metadata": {},
   "outputs": [
    {
     "name": "stdout",
     "output_type": "stream",
     "text": [
      "\n",
      "\n",
      "\u001b[1m> Entering new  chain...\u001b[0m\n",
      "Prompt after formatting:\n",
      "\u001b[32;1m\u001b[1;3mThe following is a friendly conversation between a human and an AI. The AI is talkative and provides lots of specific details from its context. If the AI does not know the answer to a question, it truthfully says it does not know.\n",
      "\n",
      "Current conversation:\n",
      "System: \n",
      "The human greets the AI and the AI responds that it is doing great and helping a customer with a technical issue. The human then mentions they are trying to learn about a technology, to which the AI responds positively and inquires what technology they are learning about. The human mentions Langchain, and the AI confirms that it is a blockchain-based language learning platform that uses AI to help users learn new languages and provides users with a secure and transparent way to store their language learning data.\n",
      "Human: Tell me more about blockchains\n",
      "AI:\u001b[0m\n",
      "\n",
      "\u001b[1m> Finished chain.\u001b[0m\n"
     ]
    },
    {
     "data": {
      "text/plain": [
       "{'input': 'Tell me more about blockchains',\n",
       " 'history': 'System: \\nThe human greets the AI and the AI responds that it is doing great and helping a customer with a technical issue. The human then mentions they are trying to learn about a technology, to which the AI responds positively and inquires what technology they are learning about. The human mentions Langchain, and the AI confirms that it is a blockchain-based language learning platform that uses AI to help users learn new languages and provides users with a secure and transparent way to store their language learning data.',\n",
       " 'response': ' Sure! A blockchain is a distributed ledger technology that stores data in a secure and transparent way. It is composed of blocks of data that are linked together in a chain, and each block contains a cryptographic hash of the previous block, a timestamp, and transaction data. This makes it difficult for anyone to tamper with the data, as any changes to the data would require changing all the blocks in the chain. Blockchains are used in many different industries, from finance to healthcare, and are becoming increasingly popular due to their security and transparency.'}"
      ]
     },
     "execution_count": 7,
     "metadata": {},
     "output_type": "execute_result"
    }
   ],
   "source": [
    "conversation_with_summary(\"Tell me more about blockchains\")"
   ]
  },
  {
   "cell_type": "code",
   "execution_count": null,
   "id": "2dafc66c-326c-4e9d-b8ee-2743e37b38aa",
   "metadata": {},
   "outputs": [],
   "source": []
  }
 ],
 "metadata": {
  "kernelspec": {
   "display_name": "Python 3 (ipykernel)",
   "language": "python",
   "name": "python3"
  },
  "language_info": {
   "codemirror_mode": {
    "name": "ipython",
    "version": 3
   },
   "file_extension": ".py",
   "mimetype": "text/x-python",
   "name": "python",
   "nbconvert_exporter": "python",
   "pygments_lexer": "ipython3",
   "version": "3.11.7"
  }
 },
 "nbformat": 4,
 "nbformat_minor": 5
}
