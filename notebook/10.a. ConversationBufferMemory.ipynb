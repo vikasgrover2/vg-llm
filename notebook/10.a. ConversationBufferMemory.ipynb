{
 "cells": [
  {
   "cell_type": "code",
   "execution_count": 3,
   "id": "b4c971db-1b07-413d-9fc5-a1a373a93d56",
   "metadata": {},
   "outputs": [],
   "source": [
    "from langchain import ConversationChain\n",
    "from langchain.memory import ConversationBufferMemory\n",
    "from langchain.prompts import ChatPromptTemplate, MessagesPlaceholder, SystemMessagePromptTemplate, HumanMessagePromptTemplate\n",
    "from langchain import OpenAI\n",
    "\n",
    "llm = OpenAI(model_name=\"text-davinci-003\", temperature=0)"
   ]
  },
  {
   "cell_type": "markdown",
   "id": "d4543119-a62c-4923-97d9-62b89c7d42a6",
   "metadata": {},
   "source": [
    "##### MessagesPlaceholder function to create a placeholder for the conversation history in a chat model prompt"
   ]
  },
  {
   "cell_type": "code",
   "execution_count": 4,
   "id": "6bca4fb5-26f7-44c4-90cb-d1055f806ae3",
   "metadata": {},
   "outputs": [
    {
     "name": "stdout",
     "output_type": "stream",
     "text": [
      ".\n",
      "\n",
      "AI: What did the elephant say to the naked man? \"How do you breathe through that tiny thing?\"\n",
      "\n",
      "AI: The author of the Harry Potter series is J.K. Rowling.\n",
      "\n",
      "AI: The joke I told you earlier was \"What did the elephant say to the naked man? 'How do you breathe through that tiny thing?'\"\n"
     ]
    }
   ],
   "source": [
    "prompt = ChatPromptTemplate.from_messages([\n",
    "    SystemMessagePromptTemplate.from_template(\"The following is a friendly conversation between a human and an AI.\"),\n",
    "    MessagesPlaceholder(variable_name=\"history\"),\n",
    "    HumanMessagePromptTemplate.from_template(\"{input}\")\n",
    "])\n",
    "\n",
    "memory = ConversationBufferMemory(return_messages=True)\n",
    "conversation = ConversationChain(memory=memory, prompt=prompt, llm=llm, verbose=True)\n",
    "\n",
    "\n",
    "print( conversation.predict(input=\"Tell me a joke about elephants\") )\n",
    "print( conversation.predict(input=\"Who is the author of the Harry Potter series?\") )\n",
    "print( conversation.predict(input=\"What was the joke you told me earlier?\") )"
   ]
  },
  {
   "cell_type": "code",
   "execution_count": 5,
   "id": "93049892-2c78-4275-ab73-7d32ec82fd6c",
   "metadata": {},
   "outputs": [
    {
     "name": "stdout",
     "output_type": "stream",
     "text": [
      "{'input': 'Tell me about the history of the Internet.', 'history': [HumanMessage(content='Tell me a joke about elephants', additional_kwargs={}, example=False), AIMessage(content='.\\n\\nAI: What did the elephant say to the naked man? \"How do you breathe through that tiny thing?\"', additional_kwargs={}, example=False), HumanMessage(content='Who is the author of the Harry Potter series?', additional_kwargs={}, example=False), AIMessage(content='\\nAI: The author of the Harry Potter series is J.K. Rowling.', additional_kwargs={}, example=False), HumanMessage(content='What was the joke you told me earlier?', additional_kwargs={}, example=False), AIMessage(content='\\nAI: The joke I told you earlier was \"What did the elephant say to the naked man? \\'How do you breathe through that tiny thing?\\'\"', additional_kwargs={}, example=False), HumanMessage(content='Tell me about the history of the Internet.', additional_kwargs={}, example=False), AIMessage(content='\\nAI:\\n\\nAI: The history of the Internet dates back to the 1960s when the US Department of Defense developed the ARPANET, a precursor to the modern Internet. Since then, the Internet has grown exponentially, with the World Wide Web being developed in the 1990s and the rise of social media in the 2000s. Today, the Internet is a global network of interconnected computers and devices that allow people to communicate and access information from anywhere in the world.', additional_kwargs={}, example=False)], 'response': '\\nAI:\\n\\nAI: The history of the Internet dates back to the 1960s when the US Department of Defense developed the ARPANET, a precursor to the modern Internet. Since then, the Internet has grown exponentially, with the World Wide Web being developed in the 1990s and the rise of social media in the 2000s. Today, the Internet is a global network of interconnected computers and devices that allow people to communicate and access information from anywhere in the world.'}\n"
     ]
    }
   ],
   "source": [
    "user_message = \"Tell me about the history of the Internet.\"\n",
    "response = conversation(user_message)\n",
    "print(response)"
   ]
  },
  {
   "cell_type": "code",
   "execution_count": null,
   "id": "8608f63c-c2bd-4293-82f4-ea246dbac1a3",
   "metadata": {},
   "outputs": [],
   "source": []
  }
 ],
 "metadata": {
  "kernelspec": {
   "display_name": "Python 3 (ipykernel)",
   "language": "python",
   "name": "python3"
  },
  "language_info": {
   "codemirror_mode": {
    "name": "ipython",
    "version": 3
   },
   "file_extension": ".py",
   "mimetype": "text/x-python",
   "name": "python",
   "nbconvert_exporter": "python",
   "pygments_lexer": "ipython3",
   "version": "3.11.7"
  }
 },
 "nbformat": 4,
 "nbformat_minor": 5
}
