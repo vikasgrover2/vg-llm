{
 "cells": [
  {
   "cell_type": "markdown",
   "id": "f7209ada-ac57-4662-a1ed-baf673d01448",
   "metadata": {},
   "source": [
    "## Expanding the content of your blog posts automatically with LangChain and Google Search"
   ]
  },
  {
   "cell_type": "code",
   "execution_count": 81,
   "id": "56ff0c1d-fbc2-439b-8aee-f6e6bfcc9bac",
   "metadata": {},
   "outputs": [],
   "source": [
    "from langchain.chat_models import ChatOpenAI\n",
    "from langchain.chains import LLMChain\n",
    "from langchain.prompts import PromptTemplate\n",
    "from langchain.prompts.chat import ChatPromptTemplate,HumanMessagePromptTemplate"
   ]
  },
  {
   "cell_type": "markdown",
   "id": "12bbc833-6c0e-46c5-b68c-b90eeb9b37d4",
   "metadata": {},
   "source": [
    "##### text_all stores the full blog and text_to_change variable is what we would like to expand upon"
   ]
  },
  {
   "cell_type": "code",
   "execution_count": 82,
   "id": "37fb2725-9313-43e0-a8c9-7e3263c31c6b",
   "metadata": {},
   "outputs": [],
   "source": [
    "title = \"Importance of sleep in young kids\"\n",
    "text_all = \"\"\"Sleep is a very important part of your child’s mental and physical health because it allows your child’s mind and body to rest and recover. Your child’s brain needs sleep to restore resources that were used up during the day. A well-rested brain can solve problems, learn new information and enjoy the day a lot more than a tired brain. The recommended amount of sleep is influenced by your child’s age.\"\"\"\n",
    "text_to_change = \"\"\"The recommended amount of sleep is influenced by your child’s age.\"\"\""
   ]
  },
  {
   "cell_type": "markdown",
   "id": "9081d3fc-2eaf-4a99-be56-f438b9ba0cc1",
   "metadata": {},
   "source": [
    "##### create a template for langchain"
   ]
  },
  {
   "cell_type": "code",
   "execution_count": 86,
   "id": "d89c5879-54a7-4789-ad4f-8188333222cc",
   "metadata": {},
   "outputs": [],
   "source": [
    "template = \"\"\"You are an exceptional copywriter and content creator.\n",
    "\n",
    "You're reading an article with the following title:\n",
    "----------------\n",
    "{title}\n",
    "----------------\n",
    "\n",
    "You've just read the following piece of text from that article.\n",
    "----------------\n",
    "{text_all}\n",
    "----------------\n",
    "\n",
    "Inside that text, there's the following TEXT TO CONSIDER that you want to enrich with new details.\n",
    "----------------\n",
    "{text_to_change}\n",
    "----------------\n",
    "\n",
    "Searching around the web, you've found this ADDITIONAL INFORMATION from distinct articles.\n",
    "----------------\n",
    "{doc_1}\n",
    "----------------\n",
    "{doc_2}\n",
    "----------------\n",
    "{doc_3}\n",
    "----------------\n",
    "\n",
    "Modify the previous TEXT TO CONSIDER by enriching it with information from the previous ADDITIONAL INFORMATION.\n",
    "\"\"\""
   ]
  },
  {
   "cell_type": "markdown",
   "id": "aa30f974-cdf7-46a5-9884-6cfeff29d342",
   "metadata": {},
   "source": [
    "##### create human message prompt from template and create a chat prompt from using human message prompt"
   ]
  },
  {
   "cell_type": "code",
   "execution_count": 87,
   "id": "aee8964e-acf4-4280-ac37-24d70e0f3b52",
   "metadata": {},
   "outputs": [],
   "source": [
    "human_message_prompt = HumanMessagePromptTemplate(\n",
    "    prompt=PromptTemplate(\n",
    "        template=template,\n",
    "        input_variables=[\"text_to_change\", \"text_all\", \"title\", \"doc_1\", \"doc_2\", \"doc_3\"],\n",
    "    )\n",
    ")\n",
    "chat_prompt_template = ChatPromptTemplate.from_messages([human_message_prompt])"
   ]
  },
  {
   "cell_type": "code",
   "execution_count": 85,
   "id": "f1044e21-7519-4c48-9862-3a27a7dc20cd",
   "metadata": {},
   "outputs": [],
   "source": [
    "chatmodel = ChatOpenAI(model_name=\"gpt-3.5-turbo\", temperature=1)\n",
    "chain = LLMChain(llm=chatmodel, prompt=chat_prompt_template)"
   ]
  },
  {
   "cell_type": "markdown",
   "id": "c8baed91-c669-47c9-8900-cb12183ae8a6",
   "metadata": {},
   "source": [
    "##### Fetch response that will contain the 3 search queries"
   ]
  },
  {
   "cell_type": "code",
   "execution_count": 68,
   "id": "d02db0c4-1116-4e41-ba4a-195f86b8de2a",
   "metadata": {},
   "outputs": [
    {
     "name": "stdout",
     "output_type": "stream",
     "text": [
      "['\"Recommended amount of sleep for children by age\"', '\"Effects of sleep deprivation in young kids\"', '\"Tips for establishing a consistent sleep routine for children\"']\n"
     ]
    }
   ],
   "source": [
    "response = chain.run({\n",
    "    \"text_to_change\": text_to_change,\n",
    "    \"text_all\": text_all,\n",
    "    \"title\": title\n",
    "})\n",
    "queries = [line[2:] for line in response.split(\"\\n\")]\n",
    "print(queries)"
   ]
  },
  {
   "cell_type": "markdown",
   "id": "309ce803-2e4a-4756-9719-7e0553ba799a",
   "metadata": {},
   "source": [
    "##### To execute the queries langchain provides tools and googlesearchwrapper"
   ]
  },
  {
   "cell_type": "code",
   "execution_count": 69,
   "id": "04b0110a-ebbb-4730-be06-6239f72d630e",
   "metadata": {},
   "outputs": [
    {
     "name": "stdout",
     "output_type": "stream",
     "text": [
      "querying..\"Recommended amount of sleep for children by age\"\n",
      "[{'title': 'Parent Corner: How Much Sleep Do Kids Need? - Door County Pulse', 'link': 'https://doorcountypulse.com/parent-corner-how-much-sleep-do-kids-need/', 'snippet': 'Apr 5, 2023 ... ... recommended amount of sleep for children by age: • Infants younger than 1 year: 12-16 hours • Children 1-2 years old: 11-14 hours • Children\\xa0...'}]\n",
      "querying..\"Effects of sleep deprivation in young kids\"\n",
      "[{'title': 'How Much Sleep Does a Toddler Need? | Mom.com', 'link': 'https://mom.com/toddler/how-much-sleep-does-a-toddler-need', 'snippet': 'Jul 22, 2019 ... The AAP also cites hypertension, obesity and depression as just some of the long-term negative effects of sleep deprivation in young kids.'}]\n",
      "querying..\"Tips for establishing a consistent sleep routine for children\"\n",
      "[{'title': 'How to establish a sleep routine for children with ASD? – MM Foam', 'link': 'https://mmfoam.com/blogs/news/how-to-establish-a-sleep-routine-for-children-with-asd', 'snippet': 'May 22, 2023 ... Here are some practical tips for establishing a consistent sleep routine for children with ASD. Establish a consistent bedtime and wake-up\\xa0...'}]\n",
      "[{'title': 'Parent Corner: How Much Sleep Do Kids Need? - Door County Pulse', 'link': 'https://doorcountypulse.com/parent-corner-how-much-sleep-do-kids-need/', 'snippet': 'Apr 5, 2023 ... ... recommended amount of sleep for children by age: • Infants younger than 1 year: 12-16 hours • Children 1-2 years old: 11-14 hours • Children\\xa0...'}, {'title': 'How Much Sleep Does a Toddler Need? | Mom.com', 'link': 'https://mom.com/toddler/how-much-sleep-does-a-toddler-need', 'snippet': 'Jul 22, 2019 ... The AAP also cites hypertension, obesity and depression as just some of the long-term negative effects of sleep deprivation in young kids.'}, {'title': 'How to establish a sleep routine for children with ASD? – MM Foam', 'link': 'https://mmfoam.com/blogs/news/how-to-establish-a-sleep-routine-for-children-with-asd', 'snippet': 'May 22, 2023 ... Here are some practical tips for establishing a consistent sleep routine for children with ASD. Establish a consistent bedtime and wake-up\\xa0...'}]\n"
     ]
    }
   ],
   "source": [
    "from langchain.tools import Tool\n",
    "from langchain.utilities import GoogleSearchAPIWrapper\n",
    "from time import sleep \n",
    "\n",
    "# Remember to set the \"GOOGLE_CSE_ID\" and \"GOOGLE_API_KEY\" environment variable.\n",
    "search = GoogleSearchAPIWrapper()\n",
    "TOP_N_RESULTS = 5\n",
    "\n",
    "def top_n_results(query):\n",
    "    return search.results(query, TOP_N_RESULTS)\n",
    "\n",
    "tool = Tool(\n",
    "    name = \"Google Search\",\n",
    "    description=\"Search Google for recent results.\",\n",
    "    func=top_n_results\n",
    ")\n",
    "\n",
    "all_results = []\n",
    "\n",
    "for query in queries:\n",
    "    print(f\"querying..{query}\")\n",
    "    results = tool.run(query)\n",
    "    print(results)\n",
    "    all_results += results\n",
    "    sleep(5)\n",
    "\n",
    "print(all_results)"
   ]
  },
  {
   "cell_type": "markdown",
   "id": "4d87f810-a6a6-4964-b5b1-234c3027d5cc",
   "metadata": {},
   "source": [
    "### Find the Most Relevant Results before sending articles to langchain to reduce token use"
   ]
  },
  {
   "cell_type": "markdown",
   "id": "b43d905a-e395-41c2-a922-8ed2218b6d40",
   "metadata": {},
   "source": [
    "##### First lets download the articles and store the content in memory"
   ]
  },
  {
   "cell_type": "code",
   "execution_count": 70,
   "id": "d153ff1d-3db4-49f2-bbbf-8ecc96cd31aa",
   "metadata": {},
   "outputs": [
    {
     "name": "stdout",
     "output_type": "stream",
     "text": [
      "Number of pages:  2\n"
     ]
    }
   ],
   "source": [
    "import newspaper\n",
    "\n",
    "pages_content = []\n",
    "\n",
    "for result in all_results:\n",
    "\ttry:\n",
    "\t\tarticle = newspaper.Article(result[\"link\"])\n",
    "\t\tarticle.download()\n",
    "\t\tarticle.parse()\n",
    "\n",
    "\t\tif len(article.text) > 0:\n",
    "\t\t\tpages_content.append({ \"url\": result[\"link\"], \"text\": article.text })\n",
    "\texcept:\n",
    "\t\tcontinue\n",
    "\n",
    "print(\"Number of pages: \", len(pages_content))"
   ]
  },
  {
   "cell_type": "markdown",
   "id": "0572735b-32ac-472f-8d82-777b468cba4d",
   "metadata": {},
   "source": [
    "##### split the saved contents into smaller chunks"
   ]
  },
  {
   "cell_type": "code",
   "execution_count": 71,
   "id": "21c15c5a-7989-4e0c-a9c7-a39075af0306",
   "metadata": {},
   "outputs": [
    {
     "name": "stdout",
     "output_type": "stream",
     "text": [
      "Number of chunks:  5\n"
     ]
    }
   ],
   "source": [
    "from langchain.text_splitter import RecursiveCharacterTextSplitter\n",
    "from langchain.docstore.document import Document\n",
    "\n",
    "text_splitter = RecursiveCharacterTextSplitter(chunk_size=3000, chunk_overlap=100)\n",
    "\n",
    "docs = []\n",
    "for d in pages_content:\n",
    "    chunks = text_splitter.split_text(d[\"text\"])\n",
    "    for chunk in chunks:\n",
    "        new_doc = Document(page_content=chunk, metadata={ \"source\": d[\"url\"] })\n",
    "        docs.append(new_doc)\n",
    "\n",
    "print(\"Number of chunks: \", len(docs))"
   ]
  },
  {
   "cell_type": "markdown",
   "id": "15c3eb8b-db34-4d6f-9065-5ab2886193a4",
   "metadata": {},
   "source": [
    "##### Create embeddings to convert the texts into vector space "
   ]
  },
  {
   "cell_type": "code",
   "execution_count": 72,
   "id": "474e9547-033c-42f6-a816-9ed9955a8467",
   "metadata": {},
   "outputs": [],
   "source": [
    "from langchain.embeddings import OpenAIEmbeddings\n",
    "\n",
    "embeddings = OpenAIEmbeddings(model=\"text-embedding-ada-002\")\n",
    "\n",
    "docs_embeddings = embeddings.embed_documents([doc.page_content for doc in docs])\n",
    "query_embedding = embeddings.embed_query(text_to_change)"
   ]
  },
  {
   "cell_type": "markdown",
   "id": "ada130d9-1b48-4f8f-a54e-db2a600d5c12",
   "metadata": {},
   "source": [
    "##### Cosine similarity metric between document embeddings and the desired text that needs to be expanded"
   ]
  },
  {
   "cell_type": "code",
   "execution_count": 77,
   "id": "fee7fad4-feb7-4aef-964c-9cecd37a99d0",
   "metadata": {},
   "outputs": [
    {
     "name": "stdout",
     "output_type": "stream",
     "text": [
      "Art by Andrew Kleidon\n",
      "\n",
      "by KAREN COREKIN-DeLaMER, Education and Community Relations Coordinator, Northern Door Children’s Center\n",
      "\n",
      "Dear Karen,\n",
      "\n",
      "I have three children. My oldest is a 14-year-old girl; the middle one is a 7-year-old boy; and my youngest is a 4-year-old boy. They are great kids, and I don’t have too many complaints.\n",
      "\n",
      "Our biggest issue lately is sleep. We let our oldest stay up later because she has more homework to do. She usually goes to bed about 9:30 pm on school nights. We try to get the younger two in bed by 8 pm, although it normally ends up closer to 8:30 pm most nights. We don’t have any scheduled bedtime for the weekends, and the older two sleep pretty late on weekend mornings.\n",
      "\n",
      "The problem is getting them up in the morning on school days. We start waking them up about 6 am. They are all hard to wake, especially our teenager. She has to be on the bus by a little before 7 am, and she always seems exhausted.\n",
      "\n",
      "Here are my questions: How much sleep do children really need? Is it different for children at different ages? How important is it that my children get enough sleep? Any information you have would be very helpful.\n",
      "\n",
      "— Mom of Sleepy Kids\n",
      "\n",
      "Dear Mom of Sleepy Kids,\n",
      "\n",
      "Your questions are great ones. Sleep-related issues can be challenging for parents and children, so I decided to get some expert information. I looked at a number of sources during my research, and they all seemed to be in agreement about the amount of sleep time that children of different ages require. The most concise answer came from Dr. Rachel Dawkins* at Johns Hopkins All Children’s Hospital, and I’m including her information for children of all ages.\n",
      "\n",
      "According to Dawkins, adequate sleep is critical for children’s overall health and wellness. The right amount of sleep improves children’s memory, attention, behavior, learning, and general mental and physical health. Conversely, a lack of sleep can lead to obesity, high blood pressure and possibly depression in children and teens.\n",
      "\n",
      "Dawkins offers these guidelines from the American Academy of Pediatrics regarding the recommended amount of sleep for children by age:\n",
      "\n",
      "• Infants younger than 1 year: 12-16 hours\n",
      "\n",
      "• Children 1-2 years old: 11-14 hours\n",
      "\n",
      "• Children 3-5 years old: 10-13 hours\n",
      "\n",
      "• Children 6-12 years old: 9-12 hours\n",
      "\n",
      "• Teenagers 13-18 years old: 8-10 hours\n",
      "\n",
      "You didn’t mention whether your children have trouble going to sleep or staying asleep, but those issues can factor into how much sleep they’re actually getting and how easily they’re able to wake up in the morning. It’s also important to keep in mind that each child is different, and some need more or less sleep than the recommended guidelines.\n"
     ]
    }
   ],
   "source": [
    "import numpy as np\n",
    "from sklearn.metrics.pairwise import cosine_similarity\n",
    "\n",
    "def get_top_k_indices(list_of_doc_vectors, query_vector, top_k):\n",
    "    # convert the lists of vectors to numpy arrays\n",
    "    list_of_doc_vectors = np.array(list_of_doc_vectors)\n",
    "    query_vector = np.array(query_vector)\n",
    "\n",
    "    # compute cosine similarities\n",
    "    similarities = cosine_similarity(query_vector.reshape(1, -1), list_of_doc_vectors).flatten()\n",
    "\n",
    "    # sort the vectors based on cosine similarity\n",
    "    sorted_indices = np.argsort(similarities)[::-1]\n",
    "\n",
    "    # retrieve the top K indices from the sorted list\n",
    "    top_k_indices = sorted_indices[:top_k]\n",
    "\n",
    "    return top_k_indices\n",
    "\n",
    "top_k = 3\n",
    "best_indexes = get_top_k_indices(docs_embeddings, query_embedding, top_k)\n",
    "best_k_documents = [doc for i, doc in enumerate(docs) if i in best_indexes]\n",
    "\n",
    "print(best_k_documents[0].page_content)"
   ]
  },
  {
   "cell_type": "markdown",
   "id": "529b881f-8971-4dc6-a700-ecea501ac194",
   "metadata": {},
   "source": [
    "##### Generate final response"
   ]
  },
  {
   "cell_type": "code",
   "execution_count": 89,
   "id": "624468d6-97fc-46c0-959d-1c2ae1036fa6",
   "metadata": {},
   "outputs": [
    {
     "name": "stdout",
     "output_type": "stream",
     "text": [
      "Text to Change:  The recommended amount of sleep is influenced by your child’s age.\n",
      "Expanded Variation: The recommended amount of sleep is influenced by your child's age. According to Dr. Rachel Dawkins from Johns Hopkins All Children's Hospital, here are the guidelines for the recommended amount of sleep for children based on their age:\n",
      "\n",
      "- Infants younger than 1 year: 12-16 hours\n",
      "- Children 1-2 years old: 11-14 hours\n",
      "- Children 3-5 years old: 10-13 hours\n",
      "- Children 6-12 years old: 9-12 hours\n",
      "- Teenagers 13-18 years old: 8-10 hours\n",
      "\n",
      "It's important to note that each child is different, and some may need more or less sleep than the recommended guidelines. In addition to getting enough sleep, it's also beneficial to have a consistent sleep schedule for your children, even on the weekends. While it's okay to stay up an hour later and sleep in an hour later, maintaining a regular sleep routine helps promote quality sleep.\n",
      "\n",
      "If your child is having trouble going to sleep or staying asleep, it may impact the amount of sleep they're actually getting and how easily they're able to wake up in the morning. Implementing a bedtime routine can be helpful, such as ending screen time an hour before bedtime, reading together, dimming the lights, and encouraging warm showers or baths before bed. It's also recommended to discourage snacks right before bedtime and limit caffeinated drinks to daytime hours only.\n",
      "\n",
      "If your child continues to struggle with waking up, especially your teenager, it may be beneficial for them to increase their hours of sleep. Encouraging them to get homework done earlier and go to bed earlier can help. If their exhaustion persists, it may be necessary to consult with their pediatrician.\n",
      "\n",
      "In addition to focusing on sleep, including age-appropriate physical activities in your child's routine can also improve their sleep quality. 30 minutes of indoor or outdoor exercise can go a long way in helping them sleep on time. It's important to avoid strenuous physical activity right before bedtime, as it can make them overtired and lead to increased sleeplessness. If your child experiences persistent sleeping troubles, it may be necessary to consult with a healthcare professional to rule out any underlying sleep disorders like obstructive sleep apnea. Seeking professional medical advice can help with proper diagnosis and timely treatment if needed.\n"
     ]
    }
   ],
   "source": [
    "chat = ChatOpenAI(model_name=\"gpt-3.5-turbo\", temperature=0.9)\n",
    "chain = LLMChain(llm=chat, prompt=chat_prompt_template)\n",
    "\n",
    "response = chain.run({\n",
    "    \"text_to_change\": text_to_change,\n",
    "    \"text_all\": text_all,\n",
    "    \"title\": title,\n",
    "    \"doc_1\": best_k_documents[0].page_content,\n",
    "    \"doc_2\": best_k_documents[1].page_content,\n",
    "    \"doc_3\": best_k_documents[2].page_content\n",
    "})\n",
    "\n",
    "print(\"Text to Change: \", text_to_change)\n",
    "print(\"Expanded Variation:\", response)"
   ]
  },
  {
   "cell_type": "code",
   "execution_count": null,
   "id": "e1d571e7-0c02-4916-b9bb-bc7d8d381c4b",
   "metadata": {},
   "outputs": [],
   "source": []
  }
 ],
 "metadata": {
  "kernelspec": {
   "display_name": "Python 3 (ipykernel)",
   "language": "python",
   "name": "python3"
  },
  "language_info": {
   "codemirror_mode": {
    "name": "ipython",
    "version": 3
   },
   "file_extension": ".py",
   "mimetype": "text/x-python",
   "name": "python",
   "nbconvert_exporter": "python",
   "pygments_lexer": "ipython3",
   "version": "3.11.7"
  }
 },
 "nbformat": 4,
 "nbformat_minor": 5
}
