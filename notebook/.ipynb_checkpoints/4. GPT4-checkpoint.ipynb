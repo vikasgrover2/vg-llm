{
 "cells": [
  {
   "cell_type": "code",
   "execution_count": 1,
   "id": "09451c5a-09ba-4fb2-a680-049581b66012",
   "metadata": {},
   "outputs": [],
   "source": [
    "from langchain.chat_models import ChatOpenAI\n",
    "from langchain.schema import (\n",
    "    SystemMessage,\n",
    "    HumanMessage,\n",
    "    AIMessage\n",
    ")\n",
    "\n",
    "messages = [\n",
    "    SystemMessage(content=\"You are a helpful assistant.\"),\n",
    "    HumanMessage(content=\"What is the capital of France?\"),\n",
    "    AIMessage(content=\"The capital of France is Paris.\")\n",
    "]"
   ]
  },
  {
   "cell_type": "code",
   "execution_count": 2,
   "id": "cd4b9d5f-e946-4210-93d3-a090c2dbc6fa",
   "metadata": {},
   "outputs": [],
   "source": [
    "prompt = HumanMessage(\n",
    "    content=\"I'd like to know more about the city you just mentioned.\"\n",
    ")\n",
    "# add to messages\n",
    "messages.append(prompt)\n",
    "\n",
    "llm = ChatOpenAI(model_name=\"gpt-4\")\n",
    "\n",
    "response = llm(messages)"
   ]
  },
  {
   "cell_type": "code",
   "execution_count": 3,
   "id": "2439b161-8e0a-4638-9e05-6fff08159677",
   "metadata": {},
   "outputs": [
    {
     "name": "stdout",
     "output_type": "stream",
     "text": [
      "content='Paris, the capital of France, is one of the most iconic cities in the world. Known as \"The City of Light\" or \"The City of Love,\" it is renowned for its romantic charm and enchanting ambiance. \\n\\nParis is globally recognized for its cultural institutions and landmarks such as the Eiffel Tower, the Louvre Museum (the world\\'s largest art museum), the Cathedral of Notre-Dame, and the Champs-Élysées. The city is also a hub for art, fashion, gastronomy, and culture. \\n\\nParis is situated on the Seine River, in the north of France, and has a population of over 2 million people. However, the metropolitan area, which extends beyond the city\\'s administrative limits, has a population of over 12 million.\\n\\nThe city is also known for its cafes and haute cuisine, iconic fashion houses like Chanel and Dior, and is home to the headquarters of several international organizations like UNESCO and OECD. \\n\\nParis also hosts a number of annual events, including the French Open Grand Slam tennis tournament, the Paris Fashion Week, and the Paris Air Show.' additional_kwargs={} example=False\n"
     ]
    }
   ],
   "source": [
    "print(response)"
   ]
  },
  {
   "cell_type": "code",
   "execution_count": 4,
   "id": "6a78951d-0850-453b-8975-4d407b420525",
   "metadata": {},
   "outputs": [
    {
     "name": "stdout",
     "output_type": "stream",
     "text": [
      "[SystemMessage(content='You are a helpful assistant.', additional_kwargs={}), HumanMessage(content='What is the capital of France?', additional_kwargs={}, example=False), AIMessage(content='The capital of France is Paris.', additional_kwargs={}, example=False), HumanMessage(content=\"I'd like to know more about the city you just mentioned.\", additional_kwargs={}, example=False)]\n"
     ]
    }
   ],
   "source": [
    "print(messages)"
   ]
  },
  {
   "cell_type": "code",
   "execution_count": null,
   "id": "b0052dfc-762f-475a-a1d1-e1600cfb328a",
   "metadata": {},
   "outputs": [],
   "source": []
  }
 ],
 "metadata": {
  "kernelspec": {
   "display_name": "Python 3 (ipykernel)",
   "language": "python",
   "name": "python3"
  },
  "language_info": {
   "codemirror_mode": {
    "name": "ipython",
    "version": 3
   },
   "file_extension": ".py",
   "mimetype": "text/x-python",
   "name": "python",
   "nbconvert_exporter": "python",
   "pygments_lexer": "ipython3",
   "version": "3.11.7"
  }
 },
 "nbformat": 4,
 "nbformat_minor": 5
}
